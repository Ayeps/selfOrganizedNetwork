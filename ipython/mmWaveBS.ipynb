{
 "cells": [
  {
   "cell_type": "code",
   "execution_count": 29,
   "metadata": {},
   "outputs": [],
   "source": [
    "from enum import Enum\n",
    "\n",
    "class State(Enum):\n",
    "    Idle = 0\n",
    "    CND = 1\n",
    "    CH = 2\n",
    "    IB = 3\n",
    "    OB = 4"
   ]
  },
  {
   "cell_type": "code",
   "execution_count": 36,
   "metadata": {},
   "outputs": [
    {
     "ename": "SyntaxError",
     "evalue": "unexpected EOF while parsing (<ipython-input-36-d6bfba523769>, line 15)",
     "output_type": "error",
     "traceback": [
      "\u001b[0;36m  File \u001b[0;32m\"<ipython-input-36-d6bfba523769>\"\u001b[0;36m, line \u001b[0;32m15\u001b[0m\n\u001b[0;31m    #declare status with respect to the broadcasting node\u001b[0m\n\u001b[0m                                                         ^\u001b[0m\n\u001b[0;31mSyntaxError\u001b[0m\u001b[0;31m:\u001b[0m unexpected EOF while parsing\n"
     ]
    }
   ],
   "source": [
    "class mmWaveBS:\n",
    "\n",
    "    def __init__(self, x , y, st):\n",
    "        self.position = (x,y)\n",
    "        self.state = st\n",
    "        self.cluster_id = 0\n",
    "    \n",
    "    def broadcast(self):\n",
    "        if self.cluster_id==0:\n",
    "            #broadcast as CND\n",
    "    \n",
    "    def listen(self):\n",
    "        return 0\n",
    "        #declare status with respect to the broadcasting node"
   ]
  },
  {
   "cell_type": "code",
   "execution_count": 27,
   "metadata": {},
   "outputs": [],
   "source": [
    "myclass = mmWaveBS(10,10,State.Idle)"
   ]
  },
  {
   "cell_type": "code",
   "execution_count": 37,
   "metadata": {},
   "outputs": [],
   "source": [
    "from PyQt4.QtGui import *\n",
    "from PyQt4.QtCore import *\n",
    "import sys\n"
   ]
  },
  {
   "cell_type": "code",
   "execution_count": 38,
   "metadata": {},
   "outputs": [],
   "source": [
    "#First we create a QApplication and QPushButton\n",
    "app=QApplication(sys.argv)\n",
    "exitButton=QPushButton(\"Exit\")"
   ]
  },
  {
   "cell_type": "code",
   "execution_count": 39,
   "metadata": {},
   "outputs": [
    {
     "data": {
      "text/plain": [
       "True"
      ]
     },
     "execution_count": 39,
     "metadata": {},
     "output_type": "execute_result"
    }
   ],
   "source": [
    "#Here we connect the exitButton's \"clicked()\" signals to the app's exit method. \n",
    "#This will have the effect that every time some one clicks the exitButton \n",
    "#the app.exit method will execute and the application will close.\n",
    "QObject.connect(exitButton,SIGNAL(\"clicked()\"),app.exit)"
   ]
  },
  {
   "cell_type": "code",
   "execution_count": 40,
   "metadata": {},
   "outputs": [
    {
     "ename": "SystemExit",
     "evalue": "0",
     "output_type": "error",
     "traceback": [
      "An exception has occurred, use %tb to see the full traceback.\n",
      "\u001b[0;31mSystemExit\u001b[0m\u001b[0;31m:\u001b[0m 0\n"
     ]
    },
    {
     "name": "stderr",
     "output_type": "stream",
     "text": [
      "/home/roohollah/.local/lib/python3.5/site-packages/IPython/core/interactiveshell.py:2918: UserWarning: To exit: use 'exit', 'quit', or Ctrl-D.\n",
      "  warn(\"To exit: use 'exit', 'quit', or Ctrl-D.\", stacklevel=1)\n"
     ]
    }
   ],
   "source": [
    "exitButton.show()\n",
    "#Start the evnt loop\n",
    "sys.exit(app.exec_())"
   ]
  },
  {
   "cell_type": "code",
   "execution_count": 1,
   "metadata": {},
   "outputs": [
    {
     "ename": "SystemExit",
     "evalue": "0",
     "output_type": "error",
     "traceback": [
      "An exception has occurred, use %tb to see the full traceback.\n",
      "\u001b[0;31mSystemExit\u001b[0m\u001b[0;31m:\u001b[0m 0\n"
     ]
    },
    {
     "name": "stderr",
     "output_type": "stream",
     "text": [
      "/home/roohollah/.local/lib/python3.5/site-packages/IPython/core/interactiveshell.py:2918: UserWarning: To exit: use 'exit', 'quit', or Ctrl-D.\n",
      "  warn(\"To exit: use 'exit', 'quit', or Ctrl-D.\", stacklevel=1)\n"
     ]
    }
   ],
   "source": [
    "import sys\n",
    "from PyQt4.QtCore import *\n",
    "from PyQt4.QtGui import *\n",
    "\n",
    "class Window(QWidget):\n",
    "\n",
    "    def __init__(self, parent = None):\n",
    "    \n",
    "        QWidget.__init__(self, parent)\n",
    "        \n",
    "        button = QPushButton(self.tr(\"Click me\"))\n",
    "        self.resultLabel = QLabel(self.tr(\"...\"))\n",
    "        \n",
    "        # New style: uses the connect method of a pyqtSignal object.\n",
    "        self.connect(button, SIGNAL(\"clicked()\"), self.handleClick)\n",
    "        \n",
    "        # Old style: uses the SIGNAL function to describe the signal.\n",
    "        self.connect(self, SIGNAL(\"sendValue(PyQt_PyObject)\"), self.handleValue)\n",
    "        \n",
    "        layout = QVBoxLayout(self)\n",
    "        layout.addWidget(button)\n",
    "        layout.addWidget(self.resultLabel)\n",
    "    \n",
    "    def handleClick(self):\n",
    "    \n",
    "        # Old style: emits the signal using the SIGNAL function.\n",
    "        self.emit(SIGNAL(\"sendValue(PyQt_PyObject)\"), {\"abc\": 123})\n",
    "    \n",
    "    def handleValue(self, value):\n",
    "    \n",
    "        self.resultLabel.setText(repr(value))\n",
    "\n",
    "\n",
    "if __name__ == \"__main__\":\n",
    "\n",
    "    app = QApplication(sys.argv)\n",
    "    window = Window()\n",
    "    window.show()\n",
    "    sys.exit(app.exec_())"
   ]
  },
  {
   "cell_type": "code",
   "execution_count": 4,
   "metadata": {},
   "outputs": [
    {
     "name": "stdout",
     "output_type": "stream",
     "text": [
      "0s starting in __main__\n",
      "True\n",
      "0s starting in a()\n",
      "0s finished in a()\n",
      "0s finished in __main__\n"
     ]
    },
    {
     "ename": "SystemExit",
     "evalue": "-1",
     "output_type": "error",
     "traceback": [
      "An exception has occurred, use %tb to see the full traceback.\n",
      "\u001b[0;31mSystemExit\u001b[0m\u001b[0;31m:\u001b[0m -1\n"
     ]
    },
    {
     "name": "stderr",
     "output_type": "stream",
     "text": [
      "/home/roohollah/.local/lib/python3.5/site-packages/IPython/core/interactiveshell.py:2918: UserWarning: To exit: use 'exit', 'quit', or Ctrl-D.\n",
      "  warn(\"To exit: use 'exit', 'quit', or Ctrl-D.\", stacklevel=1)\n"
     ]
    }
   ],
   "source": [
    "import sys\n",
    "from time import time\n",
    "from PyQt4.QtCore import *\n",
    " \n",
    "class A (QThread):\n",
    "    def __init__(self):\n",
    "        QThread.__init__(self)\n",
    "    \n",
    "    def afunc (self):\n",
    "        p(\"starting in a()\")\n",
    "        self.emit(SIGNAL(\"asignal\"))\n",
    "        p(\"finished in a()\")\n",
    "       \n",
    "    def bfunc(self):\n",
    "        p(\"starting in b()\")\n",
    "        self.sleep(3) \n",
    "        p(\"finished in b()\")\n",
    "                \n",
    "    def run(self):\n",
    "        self.exec_()\n",
    "        \n",
    " \n",
    "def p(msg): print (str(int(time()-start)) + \"s\",msg)\n",
    "        \n",
    "if __name__==\"__main__\":\n",
    "    start=time()\n",
    "    p(\"starting in __main__\")\n",
    "    app=QCoreApplication(sys.argv)\n",
    "    a=A()\n",
    "    a.start()\n",
    "    print (QObject.connect(a,SIGNAL(\"asignal\"),a.bfunc,Qt.QueuedConnection))\n",
    "    a.afunc()\n",
    "    p(\"finished in __main__\")\n",
    "       \n",
    "    sys.exit(app.exec_())"
   ]
  },
  {
   "cell_type": "code",
   "execution_count": null,
   "metadata": {},
   "outputs": [],
   "source": []
  }
 ],
 "metadata": {
  "kernelspec": {
   "display_name": "Python 3",
   "language": "python",
   "name": "python3"
  },
  "language_info": {
   "codemirror_mode": {
    "name": "ipython",
    "version": 3
   },
   "file_extension": ".py",
   "mimetype": "text/x-python",
   "name": "python",
   "nbconvert_exporter": "python",
   "pygments_lexer": "ipython3",
   "version": "3.5.2"
  }
 },
 "nbformat": 4,
 "nbformat_minor": 2
}
